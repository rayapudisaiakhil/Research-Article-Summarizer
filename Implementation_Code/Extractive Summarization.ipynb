{
 "cells": [
  {
   "cell_type": "markdown",
   "id": "8ca4ff74",
   "metadata": {},
   "source": [
    "# Extractive Summarization"
   ]
  },
  {
   "cell_type": "code",
   "execution_count": 1,
   "id": "780c0ba2",
   "metadata": {},
   "outputs": [
    {
     "name": "stderr",
     "output_type": "stream",
     "text": [
      "/Users/saiakhil/anaconda3/lib/python3.10/site-packages/tqdm/auto.py:22: TqdmWarning: IProgress not found. Please update jupyter and ipywidgets. See https://ipywidgets.readthedocs.io/en/stable/user_install.html\n",
      "  from .autonotebook import tqdm as notebook_tqdm\n"
     ]
    }
   ],
   "source": [
    "import spacy\n",
    "import pytextrank"
   ]
  },
  {
   "cell_type": "code",
   "execution_count": 2,
   "id": "c89a1dc9",
   "metadata": {},
   "outputs": [
    {
     "name": "stdout",
     "output_type": "stream",
     "text": [
      "Collecting en-core-web-lg==3.6.0\n",
      "  Downloading https://github.com/explosion/spacy-models/releases/download/en_core_web_lg-3.6.0/en_core_web_lg-3.6.0-py3-none-any.whl (587.7 MB)\n",
      "\u001b[2K     \u001b[90m━━━━━━━━━━━━━━━━━━━━━━━━━━━━━━━━━━━━━━━\u001b[0m \u001b[32m587.7/587.7 MB\u001b[0m \u001b[31m4.2 MB/s\u001b[0m eta \u001b[36m0:00:00\u001b[0m00:01\u001b[0m00:01\u001b[0m\n",
      "\u001b[?25hRequirement already satisfied: spacy<3.7.0,>=3.6.0 in /Users/saiakhil/anaconda3/lib/python3.10/site-packages (from en-core-web-lg==3.6.0) (3.6.1)\n",
      "Requirement already satisfied: cymem<2.1.0,>=2.0.2 in /Users/saiakhil/anaconda3/lib/python3.10/site-packages (from spacy<3.7.0,>=3.6.0->en-core-web-lg==3.6.0) (2.0.8)\n",
      "Requirement already satisfied: packaging>=20.0 in /Users/saiakhil/anaconda3/lib/python3.10/site-packages (from spacy<3.7.0,>=3.6.0->en-core-web-lg==3.6.0) (22.0)\n",
      "Requirement already satisfied: pydantic!=1.8,!=1.8.1,<3.0.0,>=1.7.4 in /Users/saiakhil/anaconda3/lib/python3.10/site-packages (from spacy<3.7.0,>=3.6.0->en-core-web-lg==3.6.0) (2.3.0)\n",
      "Requirement already satisfied: catalogue<2.1.0,>=2.0.6 in /Users/saiakhil/anaconda3/lib/python3.10/site-packages (from spacy<3.7.0,>=3.6.0->en-core-web-lg==3.6.0) (2.0.9)\n",
      "Requirement already satisfied: smart-open<7.0.0,>=5.2.1 in /Users/saiakhil/anaconda3/lib/python3.10/site-packages (from spacy<3.7.0,>=3.6.0->en-core-web-lg==3.6.0) (5.2.1)\n",
      "Requirement already satisfied: tqdm<5.0.0,>=4.38.0 in /Users/saiakhil/anaconda3/lib/python3.10/site-packages (from spacy<3.7.0,>=3.6.0->en-core-web-lg==3.6.0) (4.64.1)\n",
      "Requirement already satisfied: langcodes<4.0.0,>=3.2.0 in /Users/saiakhil/anaconda3/lib/python3.10/site-packages (from spacy<3.7.0,>=3.6.0->en-core-web-lg==3.6.0) (3.3.0)\n",
      "Requirement already satisfied: requests<3.0.0,>=2.13.0 in /Users/saiakhil/anaconda3/lib/python3.10/site-packages (from spacy<3.7.0,>=3.6.0->en-core-web-lg==3.6.0) (2.28.1)\n",
      "Requirement already satisfied: numpy>=1.15.0 in /Users/saiakhil/anaconda3/lib/python3.10/site-packages (from spacy<3.7.0,>=3.6.0->en-core-web-lg==3.6.0) (1.23.5)\n",
      "Requirement already satisfied: spacy-legacy<3.1.0,>=3.0.11 in /Users/saiakhil/anaconda3/lib/python3.10/site-packages (from spacy<3.7.0,>=3.6.0->en-core-web-lg==3.6.0) (3.0.12)\n",
      "Requirement already satisfied: setuptools in /Users/saiakhil/anaconda3/lib/python3.10/site-packages (from spacy<3.7.0,>=3.6.0->en-core-web-lg==3.6.0) (65.6.3)\n",
      "Requirement already satisfied: preshed<3.1.0,>=3.0.2 in /Users/saiakhil/anaconda3/lib/python3.10/site-packages (from spacy<3.7.0,>=3.6.0->en-core-web-lg==3.6.0) (3.0.9)\n",
      "Requirement already satisfied: wasabi<1.2.0,>=0.9.1 in /Users/saiakhil/anaconda3/lib/python3.10/site-packages (from spacy<3.7.0,>=3.6.0->en-core-web-lg==3.6.0) (1.1.2)\n",
      "Requirement already satisfied: typer<0.10.0,>=0.3.0 in /Users/saiakhil/anaconda3/lib/python3.10/site-packages (from spacy<3.7.0,>=3.6.0->en-core-web-lg==3.6.0) (0.9.0)\n",
      "Requirement already satisfied: jinja2 in /Users/saiakhil/anaconda3/lib/python3.10/site-packages (from spacy<3.7.0,>=3.6.0->en-core-web-lg==3.6.0) (3.1.2)\n",
      "Requirement already satisfied: pathy>=0.10.0 in /Users/saiakhil/anaconda3/lib/python3.10/site-packages (from spacy<3.7.0,>=3.6.0->en-core-web-lg==3.6.0) (0.10.2)\n",
      "Requirement already satisfied: thinc<8.2.0,>=8.1.8 in /Users/saiakhil/anaconda3/lib/python3.10/site-packages (from spacy<3.7.0,>=3.6.0->en-core-web-lg==3.6.0) (8.1.12)\n",
      "Requirement already satisfied: murmurhash<1.1.0,>=0.28.0 in /Users/saiakhil/anaconda3/lib/python3.10/site-packages (from spacy<3.7.0,>=3.6.0->en-core-web-lg==3.6.0) (1.0.10)\n",
      "Requirement already satisfied: spacy-loggers<2.0.0,>=1.0.0 in /Users/saiakhil/anaconda3/lib/python3.10/site-packages (from spacy<3.7.0,>=3.6.0->en-core-web-lg==3.6.0) (1.0.5)\n",
      "Requirement already satisfied: srsly<3.0.0,>=2.4.3 in /Users/saiakhil/anaconda3/lib/python3.10/site-packages (from spacy<3.7.0,>=3.6.0->en-core-web-lg==3.6.0) (2.4.8)\n",
      "Requirement already satisfied: typing-extensions>=4.6.1 in /Users/saiakhil/anaconda3/lib/python3.10/site-packages (from pydantic!=1.8,!=1.8.1,<3.0.0,>=1.7.4->spacy<3.7.0,>=3.6.0->en-core-web-lg==3.6.0) (4.8.0)\n",
      "Requirement already satisfied: annotated-types>=0.4.0 in /Users/saiakhil/anaconda3/lib/python3.10/site-packages (from pydantic!=1.8,!=1.8.1,<3.0.0,>=1.7.4->spacy<3.7.0,>=3.6.0->en-core-web-lg==3.6.0) (0.5.0)\n",
      "Requirement already satisfied: pydantic-core==2.6.3 in /Users/saiakhil/anaconda3/lib/python3.10/site-packages (from pydantic!=1.8,!=1.8.1,<3.0.0,>=1.7.4->spacy<3.7.0,>=3.6.0->en-core-web-lg==3.6.0) (2.6.3)\n",
      "Requirement already satisfied: charset-normalizer<3,>=2 in /Users/saiakhil/anaconda3/lib/python3.10/site-packages (from requests<3.0.0,>=2.13.0->spacy<3.7.0,>=3.6.0->en-core-web-lg==3.6.0) (2.0.4)\n",
      "Requirement already satisfied: urllib3<1.27,>=1.21.1 in /Users/saiakhil/anaconda3/lib/python3.10/site-packages (from requests<3.0.0,>=2.13.0->spacy<3.7.0,>=3.6.0->en-core-web-lg==3.6.0) (1.26.14)\n",
      "Requirement already satisfied: idna<4,>=2.5 in /Users/saiakhil/anaconda3/lib/python3.10/site-packages (from requests<3.0.0,>=2.13.0->spacy<3.7.0,>=3.6.0->en-core-web-lg==3.6.0) (3.4)\n",
      "Requirement already satisfied: certifi>=2017.4.17 in /Users/saiakhil/anaconda3/lib/python3.10/site-packages (from requests<3.0.0,>=2.13.0->spacy<3.7.0,>=3.6.0->en-core-web-lg==3.6.0) (2022.12.7)\n",
      "Requirement already satisfied: confection<1.0.0,>=0.0.1 in /Users/saiakhil/anaconda3/lib/python3.10/site-packages (from thinc<8.2.0,>=8.1.8->spacy<3.7.0,>=3.6.0->en-core-web-lg==3.6.0) (0.1.3)\n",
      "Requirement already satisfied: blis<0.8.0,>=0.7.8 in /Users/saiakhil/anaconda3/lib/python3.10/site-packages (from thinc<8.2.0,>=8.1.8->spacy<3.7.0,>=3.6.0->en-core-web-lg==3.6.0) (0.7.11)\n",
      "Requirement already satisfied: click<9.0.0,>=7.1.1 in /Users/saiakhil/anaconda3/lib/python3.10/site-packages (from typer<0.10.0,>=0.3.0->spacy<3.7.0,>=3.6.0->en-core-web-lg==3.6.0) (8.0.4)\n",
      "Requirement already satisfied: MarkupSafe>=2.0 in /Users/saiakhil/anaconda3/lib/python3.10/site-packages (from jinja2->spacy<3.7.0,>=3.6.0->en-core-web-lg==3.6.0) (2.1.1)\n",
      "\u001b[38;5;2m✔ Download and installation successful\u001b[0m\n",
      "You can now load the package via spacy.load('en_core_web_lg')\n"
     ]
    }
   ],
   "source": [
    "#Downloading spacy model from official release\n",
    "!python -m spacy download en_core_web_lg"
   ]
  },
  {
   "cell_type": "code",
   "execution_count": 3,
   "id": "011e64f0",
   "metadata": {},
   "outputs": [
    {
     "data": {
      "text/plain": [
       "<pytextrank.base.BaseTextRankFactory at 0x16824d7b0>"
      ]
     },
     "execution_count": 3,
     "metadata": {},
     "output_type": "execute_result"
    }
   ],
   "source": [
    "# Loading text rank algorithm from the model\n",
    "nlp = spacy.load(\"en_core_web_lg\")\n",
    "nlp.add_pipe(\"textrank\")"
   ]
  },
  {
   "cell_type": "code",
   "execution_count": 4,
   "id": "95bb6d23",
   "metadata": {},
   "outputs": [],
   "source": [
    "example_text =     \"Climate change refers to significant, long-term changes in the global climate. The global climate is a connected system that is always in motion, and it is being affected by human activities. One of the most noticeable effects of climate change in the past century has been the increase in temperature around the world. The average global temperature has increased by about 1.1 to 1.2 degrees Celsius since 1900. This change has led to a wide range of impacts on the environment, ecosystems, and human societies. One of the primary causes of climate change is the release of greenhouse gases into the Earth's atmosphere. These gases, such as carbon dioxide (CO2), methane (CH4), and nitrous oxide (N2O), trap heat from the sun, leading to a warming effect known as the greenhouse effect. The majority of these emissions come from human activities, including the burning of fossil fuels for energy, deforestation, and industrial processes. The consequences of climate change are far-reaching and diverse. One of the most critical impacts is the rise in sea levels caused by the melting of polar ice caps and glaciers, as well as the expansion of seawater as it warms. This rise in sea levels poses a significant threat to coastal communities and islands. Additionally, climate change has been linked to more frequent and severe weather events, such as hurricanes, droughts, heatwaves, and heavy rainfall. Ecosystems are also being affected by climate change. Shifts in temperature and weather patterns can disrupt the natural habitats of many species, leading to changes in biodiversity. Some species may become extinct if they cannot adapt quickly enough to these changes. Furthermore, climate change can exacerbate existing environmental problems, such as habitat destruction and pollution, making it even harder for ecosystems to maintain their balance. The impacts of climate change extend to human societies as well. These impacts include threats to food and water supplies, increased risks to health, economic consequences, and potential displacement of populations. For instance, changes in precipitation patterns and temperature can affect crop yields, leading to food shortages and increased prices. Warmer temperatures can also contribute to the spread of diseases. Addressing climate change requires coordinated global action. This includes reducing greenhouse gas emissions, transitioning to renewable energy sources, and protecting and restoring forests. Additionally, societies need to adapt to the changes that are already underway. This involves building resilient infrastructure, developing sustainable agricultural practices, and planning for potential climate-related disasters. In conclusion, climate change is a complex and urgent issue that impacts the entire planet. It demands immediate and sustained action to mitigate its effects and safeguard the future of the environment and human societies.\""
   ]
  },
  {
   "cell_type": "code",
   "execution_count": 5,
   "id": "ceb0bd78",
   "metadata": {},
   "outputs": [],
   "source": [
    "doc = nlp(example_text)"
   ]
  },
  {
   "cell_type": "code",
   "execution_count": 6,
   "id": "98677725",
   "metadata": {},
   "outputs": [
    {
     "name": "stdout",
     "output_type": "stream",
     "text": [
      "Climate change refers to significant, long-term changes in the global climate.\n",
      "One of the most noticeable effects of climate change in the past century has been the increase in temperature around the world.\n",
      "One of the primary causes of climate change is the release of greenhouse gases into the Earth's atmosphere.\n",
      "The consequences of climate change are far-reaching and diverse.\n"
     ]
    }
   ],
   "source": [
    "for sent in doc._.textrank.summary(limit_phrases=2):\n",
    "      print(sent)"
   ]
  },
  {
   "cell_type": "code",
   "execution_count": 7,
   "id": "04074d59",
   "metadata": {},
   "outputs": [
    {
     "data": {
      "text/plain": [
       "[(Climate change, 0.10869038225661731),\n",
       " (climate change, 0.10869038225661731),\n",
       " (changes, 0.09387385362416058),\n",
       " (human societies, 0.08751819660811201),\n",
       " (human activities, 0.07806247408198873),\n",
       " (industrial processes, 0.06757004693261125),\n",
       " (greenhouse gas emissions, 0.06711841921905067),\n",
       " (greenhouse gases, 0.0651740756208189),\n",
       " (societies, 0.06437598245715484),\n",
       " (increased prices, 0.06271670953238262)]"
      ]
     },
     "execution_count": 7,
     "metadata": {},
     "output_type": "execute_result"
    }
   ],
   "source": [
    "#Top phrases\n",
    "phrases_and_ranks = [ \n",
    "    (phrase.chunks[0], phrase.rank) for phrase in doc._.phrases\n",
    "]\n",
    "phrases_and_ranks[:10]"
   ]
  },
  {
   "cell_type": "code",
   "execution_count": 8,
   "id": "552c475e",
   "metadata": {},
   "outputs": [
    {
     "data": {
      "text/html": [
       "<div>\n",
       "<style scoped>\n",
       "    .dataframe tbody tr th:only-of-type {\n",
       "        vertical-align: middle;\n",
       "    }\n",
       "\n",
       "    .dataframe tbody tr th {\n",
       "        vertical-align: top;\n",
       "    }\n",
       "\n",
       "    .dataframe thead th {\n",
       "        text-align: right;\n",
       "    }\n",
       "</style>\n",
       "<table border=\"1\" class=\"dataframe\">\n",
       "  <thead>\n",
       "    <tr style=\"text-align: right;\">\n",
       "      <th></th>\n",
       "      <th>title</th>\n",
       "      <th>content</th>\n",
       "      <th>summary</th>\n",
       "    </tr>\n",
       "  </thead>\n",
       "  <tbody>\n",
       "    <tr>\n",
       "      <th>0</th>\n",
       "      <td>TnT - A Statistical Part-Of-Speech Tagger</td>\n",
       "      <td>Trigrams'n'Tags (TnT) is an efficient statisti...</td>\n",
       "      <td>Trigrams'n'Tags (TnT) is an efficient statisti...</td>\n",
       "    </tr>\n",
       "    <tr>\n",
       "      <th>1</th>\n",
       "      <td>Sentence Reduction For Automatic Text Summariz...</td>\n",
       "      <td>Figure 2: Sample sentence and parse tree we ha...</td>\n",
       "      <td>We present a novel sentence reduction system f...</td>\n",
       "    </tr>\n",
       "    <tr>\n",
       "      <th>2</th>\n",
       "      <td>Advances In Domain Independent Linear Text Seg...</td>\n",
       "      <td>This paper describes a method for linear text ...</td>\n",
       "      <td>This paper describes a method for linear text ...</td>\n",
       "    </tr>\n",
       "    <tr>\n",
       "      <th>3</th>\n",
       "      <td>A Simple Approach To Building Ensembles Of Nai...</td>\n",
       "      <td>This paper presents a corpus-based approach to...</td>\n",
       "      <td>This paper presents a corpus-based approach to...</td>\n",
       "    </tr>\n",
       "    <tr>\n",
       "      <th>4</th>\n",
       "      <td>A Maximum-Entropy-Inspired Parser</td>\n",
       "      <td>We present a new parser for parsing down to Pe...</td>\n",
       "      <td>We present a new parser for parsing down to Pe...</td>\n",
       "    </tr>\n",
       "  </tbody>\n",
       "</table>\n",
       "</div>"
      ],
      "text/plain": [
       "                                               title  \\\n",
       "0          TnT - A Statistical Part-Of-Speech Tagger   \n",
       "1  Sentence Reduction For Automatic Text Summariz...   \n",
       "2  Advances In Domain Independent Linear Text Seg...   \n",
       "3  A Simple Approach To Building Ensembles Of Nai...   \n",
       "4                  A Maximum-Entropy-Inspired Parser   \n",
       "\n",
       "                                             content  \\\n",
       "0  Trigrams'n'Tags (TnT) is an efficient statisti...   \n",
       "1  Figure 2: Sample sentence and parse tree we ha...   \n",
       "2  This paper describes a method for linear text ...   \n",
       "3  This paper presents a corpus-based approach to...   \n",
       "4  We present a new parser for parsing down to Pe...   \n",
       "\n",
       "                                             summary  \n",
       "0  Trigrams'n'Tags (TnT) is an efficient statisti...  \n",
       "1  We present a novel sentence reduction system f...  \n",
       "2  This paper describes a method for linear text ...  \n",
       "3  This paper presents a corpus-based approach to...  \n",
       "4  We present a new parser for parsing down to Pe...  "
      ]
     },
     "execution_count": 8,
     "metadata": {},
     "output_type": "execute_result"
    }
   ],
   "source": [
    "import pandas as pd\n",
    "data = pd.read_csv('Summarizer_Data-Final.csv')\n",
    "data.head()"
   ]
  },
  {
   "cell_type": "code",
   "execution_count": 9,
   "id": "d929b795",
   "metadata": {},
   "outputs": [
    {
     "name": "stdout",
     "output_type": "stream",
     "text": [
      "Average ROUGE Scores:\n",
      "{'rouge1': 0.18292068971825537, 'rouge2': 0.10993173711589825, 'rougeL': 0.12635901084968618}\n"
     ]
    }
   ],
   "source": [
    "#!pip install pandas summa rouge-score spacy\n",
    "#!pip install rouge-score\n",
    "import pandas as pd\n",
    "from summa import summarizer\n",
    "from rouge_score import rouge_scorer\n",
    "import spacy\n",
    "\n",
    "# Load the spaCy model with TextRank\n",
    "nlp = spacy.load(\"en_core_web_lg\")\n",
    "nlp.add_pipe(\"textrank\")\n",
    "\n",
    "df = data\n",
    "\n",
    "# Initialize the ROUGE scorer\n",
    "scorer = rouge_scorer.RougeScorer(['rouge1', 'rouge2', 'rougeL'], use_stemmer=True)\n",
    "\n",
    "# Lists to store reference and hypothesis summaries for ROUGE evaluation\n",
    "reference_summaries = []\n",
    "hypothesis_summaries = []\n",
    "\n",
    "# Iterate through each row in the DataFrame\n",
    "for index, row in df.iterrows():\n",
    "    # Extract the paper text and summary from the current row\n",
    "    paper_text = str(row['content'])  # Convert to Unicode string\n",
    "    gold_summary = str(row['summary'])  # Convert to Unicode string\n",
    "\n",
    "    # Apply TextRank for extractive summarization\n",
    "    summarized_text = summarizer.summarize(paper_text)\n",
    "\n",
    "    # Append the reference and hypothesis summaries for ROUGE evaluation\n",
    "    reference_summaries.append(gold_summary)\n",
    "    hypothesis_summaries.append(summarized_text)\n",
    "\n",
    "# Calculate ROUGE scores\n",
    "total_scores = {'rouge1': 0.0, 'rouge2': 0.0, 'rougeL': 0.0}\n",
    "num_samples = len(df)\n",
    "\n",
    "for ref_summary, hyp_summary in zip(reference_summaries, hypothesis_summaries):\n",
    "    scores = scorer.score(ref_summary, hyp_summary)\n",
    "    total_scores['rouge1'] += scores['rouge1'].fmeasure\n",
    "    total_scores['rouge2'] += scores['rouge2'].fmeasure\n",
    "    total_scores['rougeL'] += scores['rougeL'].fmeasure\n",
    "\n",
    "# Calculate average ROUGE scores\n",
    "avg_scores = {metric: score / num_samples for metric, score in total_scores.items()}\n",
    "\n",
    "# Print average ROUGE scores\n",
    "print(\"Average ROUGE Scores:\")\n",
    "print(avg_scores)\n"
   ]
  },
  {
   "cell_type": "code",
   "execution_count": null,
   "id": "844e2122",
   "metadata": {},
   "outputs": [],
   "source": []
  }
 ],
 "metadata": {
  "kernelspec": {
   "display_name": "Python 3 (ipykernel)",
   "language": "python",
   "name": "python3"
  },
  "language_info": {
   "codemirror_mode": {
    "name": "ipython",
    "version": 3
   },
   "file_extension": ".py",
   "mimetype": "text/x-python",
   "name": "python",
   "nbconvert_exporter": "python",
   "pygments_lexer": "ipython3",
   "version": "3.10.9"
  }
 },
 "nbformat": 4,
 "nbformat_minor": 5
}
