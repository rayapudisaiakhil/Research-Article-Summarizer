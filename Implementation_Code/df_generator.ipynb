{
  "nbformat": 4,
  "nbformat_minor": 0,
  "metadata": {
    "colab": {
      "provenance": []
    },
    "kernelspec": {
      "name": "python3",
      "display_name": "Python 3"
    },
    "language_info": {
      "name": "python"
    }
  },
  "cells": [
    {
      "cell_type": "code",
      "execution_count": null,
      "metadata": {
        "id": "tkwa2OSFsubn"
      },
      "outputs": [],
      "source": [
        "import pandas as pd\n",
        "import numpy as np\n",
        "\n",
        "# # Setting options to display the full DataFrame content\n",
        "# pd.set_option('display.max_columns', None)  # Shows all columns\n",
        "# pd.set_option('display.max_rows', None)     # Shows all rows\n",
        "# pd.set_option('display.max_colwidth', None) # Shows full width of showing columns\n",
        "# pd.set_option('display.width', None)        # Auto-detects the width of the terminal"
      ]
    },
    {
      "cell_type": "code",
      "source": [
        "!pip install sentencepiece"
      ],
      "metadata": {
        "id": "nuqV2fDpswAF"
      },
      "execution_count": null,
      "outputs": []
    },
    {
      "cell_type": "code",
      "source": [
        "!pip install rouge-score"
      ],
      "metadata": {
        "id": "C-45ci9Lsznb"
      },
      "execution_count": null,
      "outputs": []
    },
    {
      "cell_type": "code",
      "source": [
        "pip install accelerate -U"
      ],
      "metadata": {
        "id": "vbiSbRERs1oR"
      },
      "execution_count": null,
      "outputs": []
    },
    {
      "cell_type": "code",
      "source": [
        "base_path = 'Replace it with the base folder you have like below\"\n",
        "# base_path = '/content/drive/Othercomputers/My Laptop/NEU/Fall_23/NLP/Project/Data/scisummnet_release1.1__20190413/top1000_complete'"
      ],
      "metadata": {
        "id": "kh1FC6bVs4zI"
      },
      "execution_count": null,
      "outputs": []
    },
    {
      "cell_type": "code",
      "source": [
        "import os\n",
        "\n",
        "file_paths = []\n",
        "for folder_name in os.listdir(base_path):\n",
        "    xml_folder_path = os.path.join(base_path, folder_name, 'Documents_xml')\n",
        "    xml_file_path = os.path.join(xml_folder_path, folder_name + '.xml')\n",
        "    if os.path.exists(xml_file_path):\n",
        "        file_paths.append(xml_file_path)"
      ],
      "metadata": {
        "id": "NUgc-CS4tGlm"
      },
      "execution_count": null,
      "outputs": []
    },
    {
      "cell_type": "code",
      "source": [
        "summary_paths = []\n",
        "for folder_name in os.listdir(base_path):\n",
        "    sum_folder_path = os.path.join(base_path, folder_name, 'summary')\n",
        "    sum_file_path = os.path.join(sum_folder_path, folder_name + '.gold'+'.txt')\n",
        "    if os.path.exists(sum_file_path):\n",
        "        summary_paths.append(sum_file_path)"
      ],
      "metadata": {
        "id": "WZydO9EutI3b"
      },
      "execution_count": null,
      "outputs": []
    },
    {
      "cell_type": "code",
      "source": [
        "import xml.etree.ElementTree as ET\n",
        "import pandas as pd\n",
        "\n",
        "def process_summary(file_path):\n",
        "    with open(file_path, 'r') as file:\n",
        "        content = [line.strip() for line in file.readlines()[1:]]\n",
        "    return ' '.join(content)\n",
        "\n",
        "# Function to process an individual XML file\n",
        "def process_xml(file_path):\n",
        "    # Parsing the XML file\n",
        "    tree = ET.parse(file_path)\n",
        "    root = tree.getroot()\n",
        "\n",
        "    # Extracting the paper title\n",
        "    title = root.find('.//S').text\n",
        "\n",
        "    # Initializing a string to hold the rest of the paper content\n",
        "    content = ''\n",
        "\n",
        "    # Extracting the text from all <S> tags except the first one (which is the title)\n",
        "    for s_tag in root.findall('.//S')[1:]:\n",
        "        text = s_tag.text\n",
        "        if text:\n",
        "            content += text + ' '  # Adding a space for separation between sections\n",
        "\n",
        "    return title, content"
      ],
      "metadata": {
        "id": "iNaPmrzPtMzR"
      },
      "execution_count": null,
      "outputs": []
    },
    {
      "cell_type": "code",
      "source": [
        "# Processing each file and store the results in a DataFrame\n",
        "file_paths = sorted(file_paths)\n",
        "summary_paths = sorted(summary_paths)\n",
        "data = [process_xml(file_path) for file_path in file_paths]\n",
        "summary_data = [process_summary(file_path) for file_path in summary_paths]\n",
        "df = pd.DataFrame(data, columns=['title', 'content'])\n",
        "df['summary'] = summary_data"
      ],
      "metadata": {
        "id": "4ejSmEDItOJs"
      },
      "execution_count": null,
      "outputs": []
    },
    {
      "cell_type": "code",
      "source": [
        "df.to_csv('Summarizer_Data_Final.csv', index=False)"
      ],
      "metadata": {
        "id": "-Y91o38itQMM"
      },
      "execution_count": null,
      "outputs": []
    },
    {
      "cell_type": "code",
      "source": [
        "from sklearn.model_selection import train_test_split\n",
        "\n",
        "train_texts, val_texts, train_summary, val_summary = train_test_split(\n",
        "    df['content'], df['summary'], test_size=0.1)  # 10% for validation"
      ],
      "metadata": {
        "id": "cgvCuROqtVZA"
      },
      "execution_count": null,
      "outputs": []
    },
    {
      "cell_type": "markdown",
      "source": [
        "- from here try implementing the same way pegasus have been implemented\n",
        "- try using the pretrained model by loading it directly and applying it on the val_text\n",
        "- check the various versions in longform model and check the constraints or any conditions for this particular transformer\n",
        "- compare the output with the generated summaries and generate rogue score\n",
        "- then use train_texts and train_summary and train the model and then predict in the same way you have done above and then we can compare four models that we have done\n",
        "\n",
        "1.   Pegasus Pre-Trained\n",
        "2.   Pegasus Fine-Tuned\n",
        "3.   Longform Pre-Trained\n",
        "4.   Longform Fine-Tuned\n",
        "\n"
      ],
      "metadata": {
        "id": "MxINu8_WtiYh"
      }
    },
    {
      "cell_type": "code",
      "source": [],
      "metadata": {
        "id": "mofwTmBDu2zk"
      },
      "execution_count": null,
      "outputs": []
    }
  ]
}